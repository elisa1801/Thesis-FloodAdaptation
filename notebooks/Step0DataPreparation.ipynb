{
 "cells": [
  {
   "cell_type": "markdown",
   "id": "22c17ab5-9af4-4d87-9657-e3969cc65db3",
   "metadata": {},
   "source": [
    "# Data Preparation\n",
    "This notebook prepares the survey data by splitting the data into the three regions. This notebook includes selecting the base map for plotting, followed by subsetting the survey data in the three different regions. Before this takes place, I need to import the appropiate packages, read the relevant csv files, rename columns and define functions. This is the first notebook that needs to be run before using the other notebooks."
   ]
  },
  {
   "cell_type": "markdown",
   "id": "1702f04a-c7e6-4437-81b0-9fd848f8cdc4",
   "metadata": {},
   "source": [
    "## 0. Data preperation before splitting"
   ]
  },
  {
   "cell_type": "markdown",
   "id": "bd26c0d4-f821-4090-b683-b5575a5c4209",
   "metadata": {},
   "source": [
    "### 0.1 Import packages"
   ]
  },
  {
   "cell_type": "code",
   "execution_count": 1,
   "id": "ece7cba3-99e1-4d3d-a667-2b6dd5f5f1b8",
   "metadata": {},
   "outputs": [],
   "source": [
    "import pandas as pd\n",
    "import geopandas as gpd\n",
    "import numpy as np"
   ]
  },
  {
   "cell_type": "markdown",
   "id": "4499b37e-16cd-4c17-bcff-0fbbbb43f781",
   "metadata": {},
   "source": [
    "### 0.2 Reading csv files\n",
    "For splitting the data, an extrenal MSOA dataset is used from the House of Commons under the Open Parliament Licence v3.0."
   ]
  },
  {
   "cell_type": "code",
   "execution_count": 2,
   "id": "db482e92-1ffb-4a59-868d-6eda0e43b38c",
   "metadata": {},
   "outputs": [],
   "source": [
    "#Reading the MSOA dataset from the House of Commons\n",
    "msoa_all= pd.read_csv('../datafiles/all_msoa.csv')\n",
    "#Reading and loading in the different csv files with pandas\n",
    "survey = pd.read_csv('../datafiles/SCALAR_Coastal_Study_new_respondents_Wave_Five_UK.csv') \n",
    "#This is the data containing the names of the corresponding MSOA Codes\n",
    "names = pd.read_excel('../datafiles/msoa_names.xlsx')"
   ]
  },
  {
   "cell_type": "code",
   "execution_count": 3,
   "id": "ea92af4c-819b-44d6-98e8-a39f862ffa83",
   "metadata": {},
   "outputs": [
    {
     "data": {
      "text/html": [
       "<div>\n",
       "<style scoped>\n",
       "    .dataframe tbody tr th:only-of-type {\n",
       "        vertical-align: middle;\n",
       "    }\n",
       "\n",
       "    .dataframe tbody tr th {\n",
       "        vertical-align: top;\n",
       "    }\n",
       "\n",
       "    .dataframe thead th {\n",
       "        text-align: right;\n",
       "    }\n",
       "</style>\n",
       "<table border=\"1\" class=\"dataframe\">\n",
       "  <thead>\n",
       "    <tr style=\"text-align: right;\">\n",
       "      <th></th>\n",
       "      <th>msoa11cd</th>\n",
       "      <th>msoa11nm</th>\n",
       "      <th>msoa11nmw</th>\n",
       "      <th>msoa11hclnm</th>\n",
       "      <th>msoa11hclnmw</th>\n",
       "      <th>Laname</th>\n",
       "    </tr>\n",
       "  </thead>\n",
       "  <tbody>\n",
       "    <tr>\n",
       "      <th>0</th>\n",
       "      <td>E02000001</td>\n",
       "      <td>City of London 001</td>\n",
       "      <td>City of London 001</td>\n",
       "      <td>City of London</td>\n",
       "      <td>NaN</td>\n",
       "      <td>City of London</td>\n",
       "    </tr>\n",
       "    <tr>\n",
       "      <th>1</th>\n",
       "      <td>E02000002</td>\n",
       "      <td>Barking and Dagenham 001</td>\n",
       "      <td>Barking and Dagenham 001</td>\n",
       "      <td>Marks Gate</td>\n",
       "      <td>NaN</td>\n",
       "      <td>Barking and Dagenham</td>\n",
       "    </tr>\n",
       "    <tr>\n",
       "      <th>2</th>\n",
       "      <td>E02000003</td>\n",
       "      <td>Barking and Dagenham 002</td>\n",
       "      <td>Barking and Dagenham 002</td>\n",
       "      <td>Chadwell Heath East</td>\n",
       "      <td>NaN</td>\n",
       "      <td>Barking and Dagenham</td>\n",
       "    </tr>\n",
       "    <tr>\n",
       "      <th>3</th>\n",
       "      <td>E02000004</td>\n",
       "      <td>Barking and Dagenham 003</td>\n",
       "      <td>Barking and Dagenham 003</td>\n",
       "      <td>Eastbrookend</td>\n",
       "      <td>NaN</td>\n",
       "      <td>Barking and Dagenham</td>\n",
       "    </tr>\n",
       "    <tr>\n",
       "      <th>4</th>\n",
       "      <td>E02000005</td>\n",
       "      <td>Barking and Dagenham 004</td>\n",
       "      <td>Barking and Dagenham 004</td>\n",
       "      <td>Becontree Heath</td>\n",
       "      <td>NaN</td>\n",
       "      <td>Barking and Dagenham</td>\n",
       "    </tr>\n",
       "  </tbody>\n",
       "</table>\n",
       "</div>"
      ],
      "text/plain": [
       "    msoa11cd                  msoa11nm                 msoa11nmw  \\\n",
       "0  E02000001        City of London 001        City of London 001   \n",
       "1  E02000002  Barking and Dagenham 001  Barking and Dagenham 001   \n",
       "2  E02000003  Barking and Dagenham 002  Barking and Dagenham 002   \n",
       "3  E02000004  Barking and Dagenham 003  Barking and Dagenham 003   \n",
       "4  E02000005  Barking and Dagenham 004  Barking and Dagenham 004   \n",
       "\n",
       "           msoa11hclnm msoa11hclnmw                Laname  \n",
       "0       City of London          NaN        City of London  \n",
       "1           Marks Gate          NaN  Barking and Dagenham  \n",
       "2  Chadwell Heath East          NaN  Barking and Dagenham  \n",
       "3         Eastbrookend          NaN  Barking and Dagenham  \n",
       "4      Becontree Heath          NaN  Barking and Dagenham  "
      ]
     },
     "execution_count": 3,
     "metadata": {},
     "output_type": "execute_result"
    }
   ],
   "source": [
    "#Showing the msoa_all dataframe\n",
    "msoa_all.head()"
   ]
  },
  {
   "cell_type": "code",
   "execution_count": 4,
   "id": "97c15cce-e05a-4a6f-b353-81d82c54ecf0",
   "metadata": {},
   "outputs": [
    {
     "data": {
      "text/html": [
       "<div>\n",
       "<style scoped>\n",
       "    .dataframe tbody tr th:only-of-type {\n",
       "        vertical-align: middle;\n",
       "    }\n",
       "\n",
       "    .dataframe tbody tr th {\n",
       "        vertical-align: top;\n",
       "    }\n",
       "\n",
       "    .dataframe thead th {\n",
       "        text-align: right;\n",
       "    }\n",
       "</style>\n",
       "<table border=\"1\" class=\"dataframe\">\n",
       "  <thead>\n",
       "    <tr style=\"text-align: right;\">\n",
       "      <th></th>\n",
       "      <th>ID</th>\n",
       "      <th>Q0_place_UK</th>\n",
       "      <th>Q1_home_NL_UK</th>\n",
       "      <th>Q4_home_size_UK</th>\n",
       "      <th>Q5_home_tenure</th>\n",
       "      <th>Q5b_home_sell</th>\n",
       "      <th>Q6_home_costs</th>\n",
       "      <th>Q7_move_in</th>\n",
       "      <th>Q8_move_out</th>\n",
       "      <th>Q12_neighborhood_trust</th>\n",
       "      <th>...</th>\n",
       "      <th>Q29h_com_what_other_p2</th>\n",
       "      <th>Q29h_com_what_other_p3</th>\n",
       "      <th>Q35_responsibility_citizens</th>\n",
       "      <th>Q35_responsibility_business</th>\n",
       "      <th>Q35_responsibility_ngo_local</th>\n",
       "      <th>Q35_responsibility_ngo_international</th>\n",
       "      <th>Q35_responsibility_gov_local</th>\n",
       "      <th>Q35_responsibility_gov_national</th>\n",
       "      <th>Q35_responsibility_w_authorities</th>\n",
       "      <th>Q35_responsibility_other</th>\n",
       "    </tr>\n",
       "  </thead>\n",
       "  <tbody>\n",
       "    <tr>\n",
       "      <th>0</th>\n",
       "      <td>0</td>\n",
       "      <td>5456</td>\n",
       "      <td>4</td>\n",
       "      <td>2</td>\n",
       "      <td>2</td>\n",
       "      <td>350000</td>\n",
       "      <td>300</td>\n",
       "      <td>2015</td>\n",
       "      <td>4</td>\n",
       "      <td>3</td>\n",
       "      <td>...</td>\n",
       "      <td>NaN</td>\n",
       "      <td>NaN</td>\n",
       "      <td>0</td>\n",
       "      <td>0</td>\n",
       "      <td>0</td>\n",
       "      <td>0</td>\n",
       "      <td>0</td>\n",
       "      <td>100</td>\n",
       "      <td>0</td>\n",
       "      <td>0</td>\n",
       "    </tr>\n",
       "    <tr>\n",
       "      <th>1</th>\n",
       "      <td>1</td>\n",
       "      <td>5451</td>\n",
       "      <td>3</td>\n",
       "      <td>2</td>\n",
       "      <td>2</td>\n",
       "      <td>350000</td>\n",
       "      <td>3000</td>\n",
       "      <td>1998</td>\n",
       "      <td>4</td>\n",
       "      <td>4</td>\n",
       "      <td>...</td>\n",
       "      <td>NaN</td>\n",
       "      <td>NaN</td>\n",
       "      <td>0</td>\n",
       "      <td>0</td>\n",
       "      <td>0</td>\n",
       "      <td>0</td>\n",
       "      <td>50</td>\n",
       "      <td>0</td>\n",
       "      <td>50</td>\n",
       "      <td>0</td>\n",
       "    </tr>\n",
       "    <tr>\n",
       "      <th>2</th>\n",
       "      <td>2</td>\n",
       "      <td>6170</td>\n",
       "      <td>3</td>\n",
       "      <td>5</td>\n",
       "      <td>2</td>\n",
       "      <td>265000</td>\n",
       "      <td>300</td>\n",
       "      <td>2012</td>\n",
       "      <td>98</td>\n",
       "      <td>5</td>\n",
       "      <td>...</td>\n",
       "      <td>NaN</td>\n",
       "      <td>NaN</td>\n",
       "      <td>10</td>\n",
       "      <td>0</td>\n",
       "      <td>0</td>\n",
       "      <td>10</td>\n",
       "      <td>50</td>\n",
       "      <td>0</td>\n",
       "      <td>30</td>\n",
       "      <td>0</td>\n",
       "    </tr>\n",
       "    <tr>\n",
       "      <th>3</th>\n",
       "      <td>3</td>\n",
       "      <td>6101</td>\n",
       "      <td>3</td>\n",
       "      <td>6</td>\n",
       "      <td>2</td>\n",
       "      <td>550000</td>\n",
       "      <td>3000</td>\n",
       "      <td>2019</td>\n",
       "      <td>3</td>\n",
       "      <td>3</td>\n",
       "      <td>...</td>\n",
       "      <td>NaN</td>\n",
       "      <td>NaN</td>\n",
       "      <td>0</td>\n",
       "      <td>0</td>\n",
       "      <td>0</td>\n",
       "      <td>0</td>\n",
       "      <td>100</td>\n",
       "      <td>0</td>\n",
       "      <td>0</td>\n",
       "      <td>0</td>\n",
       "    </tr>\n",
       "    <tr>\n",
       "      <th>4</th>\n",
       "      <td>4</td>\n",
       "      <td>6160</td>\n",
       "      <td>4</td>\n",
       "      <td>6</td>\n",
       "      <td>2</td>\n",
       "      <td>385000</td>\n",
       "      <td>280</td>\n",
       "      <td>2000</td>\n",
       "      <td>2</td>\n",
       "      <td>4</td>\n",
       "      <td>...</td>\n",
       "      <td>NaN</td>\n",
       "      <td>NaN</td>\n",
       "      <td>0</td>\n",
       "      <td>0</td>\n",
       "      <td>0</td>\n",
       "      <td>0</td>\n",
       "      <td>30</td>\n",
       "      <td>35</td>\n",
       "      <td>35</td>\n",
       "      <td>0</td>\n",
       "    </tr>\n",
       "  </tbody>\n",
       "</table>\n",
       "<p>5 rows × 320 columns</p>\n",
       "</div>"
      ],
      "text/plain": [
       "   ID  Q0_place_UK  Q1_home_NL_UK  Q4_home_size_UK  Q5_home_tenure  \\\n",
       "0   0         5456              4                2               2   \n",
       "1   1         5451              3                2               2   \n",
       "2   2         6170              3                5               2   \n",
       "3   3         6101              3                6               2   \n",
       "4   4         6160              4                6               2   \n",
       "\n",
       "  Q5b_home_sell  Q6_home_costs  Q7_move_in  Q8_move_out  \\\n",
       "0        350000            300        2015            4   \n",
       "1        350000           3000        1998            4   \n",
       "2        265000            300        2012           98   \n",
       "3        550000           3000        2019            3   \n",
       "4        385000            280        2000            2   \n",
       "\n",
       "   Q12_neighborhood_trust  ...  Q29h_com_what_other_p2  \\\n",
       "0                       3  ...                     NaN   \n",
       "1                       4  ...                     NaN   \n",
       "2                       5  ...                     NaN   \n",
       "3                       3  ...                     NaN   \n",
       "4                       4  ...                     NaN   \n",
       "\n",
       "   Q29h_com_what_other_p3  Q35_responsibility_citizens  \\\n",
       "0                     NaN                            0   \n",
       "1                     NaN                            0   \n",
       "2                     NaN                           10   \n",
       "3                     NaN                            0   \n",
       "4                     NaN                            0   \n",
       "\n",
       "   Q35_responsibility_business  Q35_responsibility_ngo_local  \\\n",
       "0                            0                             0   \n",
       "1                            0                             0   \n",
       "2                            0                             0   \n",
       "3                            0                             0   \n",
       "4                            0                             0   \n",
       "\n",
       "   Q35_responsibility_ngo_international  Q35_responsibility_gov_local  \\\n",
       "0                                     0                             0   \n",
       "1                                     0                            50   \n",
       "2                                    10                            50   \n",
       "3                                     0                           100   \n",
       "4                                     0                            30   \n",
       "\n",
       "   Q35_responsibility_gov_national  Q35_responsibility_w_authorities  \\\n",
       "0                              100                                 0   \n",
       "1                                0                                50   \n",
       "2                                0                                30   \n",
       "3                                0                                 0   \n",
       "4                               35                                35   \n",
       "\n",
       "   Q35_responsibility_other  \n",
       "0                         0  \n",
       "1                         0  \n",
       "2                         0  \n",
       "3                         0  \n",
       "4                         0  \n",
       "\n",
       "[5 rows x 320 columns]"
      ]
     },
     "execution_count": 4,
     "metadata": {},
     "output_type": "execute_result"
    }
   ],
   "source": [
    "#Showing the survey_data dataframe\n",
    "survey.head()"
   ]
  },
  {
   "cell_type": "code",
   "execution_count": 5,
   "id": "e9f9b948-4347-4d65-98a6-f76c4f5e5cc5",
   "metadata": {},
   "outputs": [
    {
     "data": {
      "text/html": [
       "<div>\n",
       "<style scoped>\n",
       "    .dataframe tbody tr th:only-of-type {\n",
       "        vertical-align: middle;\n",
       "    }\n",
       "\n",
       "    .dataframe tbody tr th {\n",
       "        vertical-align: top;\n",
       "    }\n",
       "\n",
       "    .dataframe thead th {\n",
       "        text-align: right;\n",
       "    }\n",
       "</style>\n",
       "<table border=\"1\" class=\"dataframe\">\n",
       "  <thead>\n",
       "    <tr style=\"text-align: right;\">\n",
       "      <th></th>\n",
       "      <th>RecordNo</th>\n",
       "      <th>msoa11</th>\n",
       "    </tr>\n",
       "  </thead>\n",
       "  <tbody>\n",
       "    <tr>\n",
       "      <th>0</th>\n",
       "      <td>0</td>\n",
       "      <td>North Norfolk 012</td>\n",
       "    </tr>\n",
       "    <tr>\n",
       "      <th>1</th>\n",
       "      <td>1</td>\n",
       "      <td>North Norfolk 007</td>\n",
       "    </tr>\n",
       "    <tr>\n",
       "      <th>2</th>\n",
       "      <td>2</td>\n",
       "      <td>Waveney 006</td>\n",
       "    </tr>\n",
       "    <tr>\n",
       "      <th>3</th>\n",
       "      <td>3</td>\n",
       "      <td>Babergh 011</td>\n",
       "    </tr>\n",
       "    <tr>\n",
       "      <th>4</th>\n",
       "      <td>4</td>\n",
       "      <td>Suffolk Coastal 011</td>\n",
       "    </tr>\n",
       "  </tbody>\n",
       "</table>\n",
       "</div>"
      ],
      "text/plain": [
       "   RecordNo               msoa11\n",
       "0         0    North Norfolk 012\n",
       "1         1    North Norfolk 007\n",
       "2         2          Waveney 006\n",
       "3         3          Babergh 011\n",
       "4         4  Suffolk Coastal 011"
      ]
     },
     "execution_count": 5,
     "metadata": {},
     "output_type": "execute_result"
    }
   ],
   "source": [
    "#Showing the names dataframe\n",
    "names.head()"
   ]
  },
  {
   "cell_type": "markdown",
   "id": "e58ebbbc-0530-452a-9839-e2026a3f932e",
   "metadata": {},
   "source": [
    "###  0.3 Renaming columns for further analysis"
   ]
  },
  {
   "cell_type": "code",
   "execution_count": 6,
   "id": "b7ba764a-bc54-4d67-a6d4-8ff8fb24c7a0",
   "metadata": {},
   "outputs": [],
   "source": [
    "#Renaming columns for merging\n",
    "msoa_all=msoa_all.rename(columns={'msoa11nm' : 'MSOA name', 'Laname': 'LA name'})\n",
    "names=names.rename(columns={'RecordNo': 'ID', 'msoa11': 'MSOA name' })"
   ]
  },
  {
   "cell_type": "code",
   "execution_count": 7,
   "id": "ec5ac030-0064-4c2a-89bf-de0e0d2199c9",
   "metadata": {},
   "outputs": [
    {
     "data": {
      "text/html": [
       "<div>\n",
       "<style scoped>\n",
       "    .dataframe tbody tr th:only-of-type {\n",
       "        vertical-align: middle;\n",
       "    }\n",
       "\n",
       "    .dataframe tbody tr th {\n",
       "        vertical-align: top;\n",
       "    }\n",
       "\n",
       "    .dataframe thead th {\n",
       "        text-align: right;\n",
       "    }\n",
       "</style>\n",
       "<table border=\"1\" class=\"dataframe\">\n",
       "  <thead>\n",
       "    <tr style=\"text-align: right;\">\n",
       "      <th></th>\n",
       "      <th>ID</th>\n",
       "      <th>MSOA name</th>\n",
       "    </tr>\n",
       "  </thead>\n",
       "  <tbody>\n",
       "    <tr>\n",
       "      <th>0</th>\n",
       "      <td>0</td>\n",
       "      <td>North Norfolk 012</td>\n",
       "    </tr>\n",
       "    <tr>\n",
       "      <th>1</th>\n",
       "      <td>1</td>\n",
       "      <td>North Norfolk 007</td>\n",
       "    </tr>\n",
       "    <tr>\n",
       "      <th>2</th>\n",
       "      <td>2</td>\n",
       "      <td>Waveney 006</td>\n",
       "    </tr>\n",
       "    <tr>\n",
       "      <th>3</th>\n",
       "      <td>3</td>\n",
       "      <td>Babergh 011</td>\n",
       "    </tr>\n",
       "    <tr>\n",
       "      <th>4</th>\n",
       "      <td>4</td>\n",
       "      <td>Suffolk Coastal 011</td>\n",
       "    </tr>\n",
       "    <tr>\n",
       "      <th>...</th>\n",
       "      <td>...</td>\n",
       "      <td>...</td>\n",
       "    </tr>\n",
       "    <tr>\n",
       "      <th>738</th>\n",
       "      <td>746</td>\n",
       "      <td>Tower Hamlets 004</td>\n",
       "    </tr>\n",
       "    <tr>\n",
       "      <th>739</th>\n",
       "      <td>747</td>\n",
       "      <td>Wandsworth 017</td>\n",
       "    </tr>\n",
       "    <tr>\n",
       "      <th>740</th>\n",
       "      <td>748</td>\n",
       "      <td>Enfield 010</td>\n",
       "    </tr>\n",
       "    <tr>\n",
       "      <th>741</th>\n",
       "      <td>749</td>\n",
       "      <td>Tower Hamlets 013</td>\n",
       "    </tr>\n",
       "    <tr>\n",
       "      <th>742</th>\n",
       "      <td>750</td>\n",
       "      <td>Croydon 039</td>\n",
       "    </tr>\n",
       "  </tbody>\n",
       "</table>\n",
       "<p>743 rows × 2 columns</p>\n",
       "</div>"
      ],
      "text/plain": [
       "      ID            MSOA name\n",
       "0      0    North Norfolk 012\n",
       "1      1    North Norfolk 007\n",
       "2      2          Waveney 006\n",
       "3      3          Babergh 011\n",
       "4      4  Suffolk Coastal 011\n",
       "..   ...                  ...\n",
       "738  746    Tower Hamlets 004\n",
       "739  747       Wandsworth 017\n",
       "740  748          Enfield 010\n",
       "741  749    Tower Hamlets 013\n",
       "742  750          Croydon 039\n",
       "\n",
       "[743 rows x 2 columns]"
      ]
     },
     "execution_count": 7,
     "metadata": {},
     "output_type": "execute_result"
    }
   ],
   "source": [
    "names"
   ]
  },
  {
   "cell_type": "markdown",
   "id": "bb26d6b2-c52b-4cc3-9cc8-1355e9ed9fba",
   "metadata": {},
   "source": [
    "### 0.4 Functions\n",
    "In this section, I created a function to split the dataset up per region."
   ]
  },
  {
   "cell_type": "code",
   "execution_count": 8,
   "id": "6538e913-5181-4b55-9b70-69b05807cd55",
   "metadata": {},
   "outputs": [],
   "source": [
    "def find_regions(df, start_string, end_string):\n",
    "    #Define which entry is the start of the dataframe by inputting a string\n",
    "    start_index_df = df.index.get_loc(df[df['msoa11nmw'] == start_string].index[0])\n",
    "    #Define the end of the dataframe by inputting a string\n",
    "    end_index_df = df.index.get_loc(df[df['msoa11nmw'] == end_string].index[-1])\n",
    "    #Create a new dataframe from the start string till the end string + 1 extra entry to include the end string\n",
    "    new_df=df.iloc[start_index_df:end_index_df + 1]\n",
    "    #Returns the new dataframe\n",
    "    return new_df"
   ]
  },
  {
   "cell_type": "markdown",
   "id": "d5452691-c377-49a6-8ec1-41cc7e17a1d6",
   "metadata": {},
   "source": [
    "## 1. Merging original survey data frame with msoa names \n",
    "For merging with the geodataframe afterwards, I need to merge the survey dataframe with a names dataframe that contains the names of the MSOA codes. This is needed as the MSOA codes in the survey dataframe and the MSOA codes in the shapefile are different, hence I will merge on the area names of the MSOA codes for further analysis in this notebook."
   ]
  },
  {
   "cell_type": "code",
   "execution_count": 9,
   "id": "2599fe7a-62cb-4b4f-a408-9efbfbf85d0e",
   "metadata": {},
   "outputs": [],
   "source": [
    "#Merging the two dataframes \n",
    "survey_data=survey.merge(names, on='ID',  how=\"left\")"
   ]
  },
  {
   "cell_type": "code",
   "execution_count": 10,
   "id": "815ef304-9118-4618-ba93-6dc2ed60dbcf",
   "metadata": {},
   "outputs": [
    {
     "data": {
      "text/html": [
       "<div>\n",
       "<style scoped>\n",
       "    .dataframe tbody tr th:only-of-type {\n",
       "        vertical-align: middle;\n",
       "    }\n",
       "\n",
       "    .dataframe tbody tr th {\n",
       "        vertical-align: top;\n",
       "    }\n",
       "\n",
       "    .dataframe thead th {\n",
       "        text-align: right;\n",
       "    }\n",
       "</style>\n",
       "<table border=\"1\" class=\"dataframe\">\n",
       "  <thead>\n",
       "    <tr style=\"text-align: right;\">\n",
       "      <th></th>\n",
       "      <th>ID</th>\n",
       "      <th>Q0_place_UK</th>\n",
       "      <th>Q1_home_NL_UK</th>\n",
       "      <th>Q4_home_size_UK</th>\n",
       "      <th>Q5_home_tenure</th>\n",
       "      <th>Q5b_home_sell</th>\n",
       "      <th>Q6_home_costs</th>\n",
       "      <th>Q7_move_in</th>\n",
       "      <th>Q8_move_out</th>\n",
       "      <th>Q12_neighborhood_trust</th>\n",
       "      <th>...</th>\n",
       "      <th>Q29h_com_what_other_p3</th>\n",
       "      <th>Q35_responsibility_citizens</th>\n",
       "      <th>Q35_responsibility_business</th>\n",
       "      <th>Q35_responsibility_ngo_local</th>\n",
       "      <th>Q35_responsibility_ngo_international</th>\n",
       "      <th>Q35_responsibility_gov_local</th>\n",
       "      <th>Q35_responsibility_gov_national</th>\n",
       "      <th>Q35_responsibility_w_authorities</th>\n",
       "      <th>Q35_responsibility_other</th>\n",
       "      <th>MSOA name</th>\n",
       "    </tr>\n",
       "  </thead>\n",
       "  <tbody>\n",
       "    <tr>\n",
       "      <th>0</th>\n",
       "      <td>0</td>\n",
       "      <td>5456</td>\n",
       "      <td>4</td>\n",
       "      <td>2</td>\n",
       "      <td>2</td>\n",
       "      <td>350000</td>\n",
       "      <td>300</td>\n",
       "      <td>2015</td>\n",
       "      <td>4</td>\n",
       "      <td>3</td>\n",
       "      <td>...</td>\n",
       "      <td>NaN</td>\n",
       "      <td>0</td>\n",
       "      <td>0</td>\n",
       "      <td>0</td>\n",
       "      <td>0</td>\n",
       "      <td>0</td>\n",
       "      <td>100</td>\n",
       "      <td>0</td>\n",
       "      <td>0</td>\n",
       "      <td>North Norfolk 012</td>\n",
       "    </tr>\n",
       "    <tr>\n",
       "      <th>1</th>\n",
       "      <td>1</td>\n",
       "      <td>5451</td>\n",
       "      <td>3</td>\n",
       "      <td>2</td>\n",
       "      <td>2</td>\n",
       "      <td>350000</td>\n",
       "      <td>3000</td>\n",
       "      <td>1998</td>\n",
       "      <td>4</td>\n",
       "      <td>4</td>\n",
       "      <td>...</td>\n",
       "      <td>NaN</td>\n",
       "      <td>0</td>\n",
       "      <td>0</td>\n",
       "      <td>0</td>\n",
       "      <td>0</td>\n",
       "      <td>50</td>\n",
       "      <td>0</td>\n",
       "      <td>50</td>\n",
       "      <td>0</td>\n",
       "      <td>North Norfolk 007</td>\n",
       "    </tr>\n",
       "    <tr>\n",
       "      <th>2</th>\n",
       "      <td>2</td>\n",
       "      <td>6170</td>\n",
       "      <td>3</td>\n",
       "      <td>5</td>\n",
       "      <td>2</td>\n",
       "      <td>265000</td>\n",
       "      <td>300</td>\n",
       "      <td>2012</td>\n",
       "      <td>98</td>\n",
       "      <td>5</td>\n",
       "      <td>...</td>\n",
       "      <td>NaN</td>\n",
       "      <td>10</td>\n",
       "      <td>0</td>\n",
       "      <td>0</td>\n",
       "      <td>10</td>\n",
       "      <td>50</td>\n",
       "      <td>0</td>\n",
       "      <td>30</td>\n",
       "      <td>0</td>\n",
       "      <td>Waveney 006</td>\n",
       "    </tr>\n",
       "    <tr>\n",
       "      <th>3</th>\n",
       "      <td>3</td>\n",
       "      <td>6101</td>\n",
       "      <td>3</td>\n",
       "      <td>6</td>\n",
       "      <td>2</td>\n",
       "      <td>550000</td>\n",
       "      <td>3000</td>\n",
       "      <td>2019</td>\n",
       "      <td>3</td>\n",
       "      <td>3</td>\n",
       "      <td>...</td>\n",
       "      <td>NaN</td>\n",
       "      <td>0</td>\n",
       "      <td>0</td>\n",
       "      <td>0</td>\n",
       "      <td>0</td>\n",
       "      <td>100</td>\n",
       "      <td>0</td>\n",
       "      <td>0</td>\n",
       "      <td>0</td>\n",
       "      <td>Babergh 011</td>\n",
       "    </tr>\n",
       "    <tr>\n",
       "      <th>4</th>\n",
       "      <td>4</td>\n",
       "      <td>6160</td>\n",
       "      <td>4</td>\n",
       "      <td>6</td>\n",
       "      <td>2</td>\n",
       "      <td>385000</td>\n",
       "      <td>280</td>\n",
       "      <td>2000</td>\n",
       "      <td>2</td>\n",
       "      <td>4</td>\n",
       "      <td>...</td>\n",
       "      <td>NaN</td>\n",
       "      <td>0</td>\n",
       "      <td>0</td>\n",
       "      <td>0</td>\n",
       "      <td>0</td>\n",
       "      <td>30</td>\n",
       "      <td>35</td>\n",
       "      <td>35</td>\n",
       "      <td>0</td>\n",
       "      <td>Suffolk Coastal 011</td>\n",
       "    </tr>\n",
       "  </tbody>\n",
       "</table>\n",
       "<p>5 rows × 321 columns</p>\n",
       "</div>"
      ],
      "text/plain": [
       "   ID  Q0_place_UK  Q1_home_NL_UK  Q4_home_size_UK  Q5_home_tenure  \\\n",
       "0   0         5456              4                2               2   \n",
       "1   1         5451              3                2               2   \n",
       "2   2         6170              3                5               2   \n",
       "3   3         6101              3                6               2   \n",
       "4   4         6160              4                6               2   \n",
       "\n",
       "  Q5b_home_sell  Q6_home_costs  Q7_move_in  Q8_move_out  \\\n",
       "0        350000            300        2015            4   \n",
       "1        350000           3000        1998            4   \n",
       "2        265000            300        2012           98   \n",
       "3        550000           3000        2019            3   \n",
       "4        385000            280        2000            2   \n",
       "\n",
       "   Q12_neighborhood_trust  ...  Q29h_com_what_other_p3  \\\n",
       "0                       3  ...                     NaN   \n",
       "1                       4  ...                     NaN   \n",
       "2                       5  ...                     NaN   \n",
       "3                       3  ...                     NaN   \n",
       "4                       4  ...                     NaN   \n",
       "\n",
       "   Q35_responsibility_citizens  Q35_responsibility_business  \\\n",
       "0                            0                            0   \n",
       "1                            0                            0   \n",
       "2                           10                            0   \n",
       "3                            0                            0   \n",
       "4                            0                            0   \n",
       "\n",
       "   Q35_responsibility_ngo_local  Q35_responsibility_ngo_international  \\\n",
       "0                             0                                     0   \n",
       "1                             0                                     0   \n",
       "2                             0                                    10   \n",
       "3                             0                                     0   \n",
       "4                             0                                     0   \n",
       "\n",
       "   Q35_responsibility_gov_local  Q35_responsibility_gov_national  \\\n",
       "0                             0                              100   \n",
       "1                            50                                0   \n",
       "2                            50                                0   \n",
       "3                           100                                0   \n",
       "4                            30                               35   \n",
       "\n",
       "   Q35_responsibility_w_authorities  Q35_responsibility_other  \\\n",
       "0                                 0                         0   \n",
       "1                                50                         0   \n",
       "2                                30                         0   \n",
       "3                                 0                         0   \n",
       "4                                35                         0   \n",
       "\n",
       "             MSOA name  \n",
       "0    North Norfolk 012  \n",
       "1    North Norfolk 007  \n",
       "2          Waveney 006  \n",
       "3          Babergh 011  \n",
       "4  Suffolk Coastal 011  \n",
       "\n",
       "[5 rows x 321 columns]"
      ]
     },
     "execution_count": 10,
     "metadata": {},
     "output_type": "execute_result"
    }
   ],
   "source": [
    "#This is the new merged dataframe that will be used for further analysis \n",
    "survey_data.head()"
   ]
  },
  {
   "cell_type": "code",
   "execution_count": 11,
   "id": "956af877-227c-44b8-a35e-8ecefc4e383f",
   "metadata": {},
   "outputs": [],
   "source": [
    "#Writing the new dataframe to a csv file for further use. This file, without transformation, will be only used for initial exploration in Step0Exploratory\n",
    "survey_data.to_csv('../datafiles/merged_names.csv', index=False)"
   ]
  },
  {
   "cell_type": "markdown",
   "id": "8ed4a1d8-1e1d-4ab9-b4ac-9993485d93c5",
   "metadata": {},
   "source": [
    "## 2. Transforming and Renaming Columns \n",
    "Before I write this new dataframe with the MSOA names to a csv file, I want to transform one column. 'Q0_age' is a a ratio type of variable, but for my clustering I want this to be a Likert scale variable. Hence, I transform this variable in this notebook for easier implementation later on. "
   ]
  },
  {
   "cell_type": "code",
   "execution_count": 12,
   "id": "6921ec25-3df1-4a24-93b6-43bcfcd76126",
   "metadata": {},
   "outputs": [],
   "source": [
    "#These are the bins and labels for the age group\n",
    "bins = [18, 30, 45, 60, 75, 92]\n",
    "labels =[1, 2, 3, 4 , 5]"
   ]
  },
  {
   "cell_type": "code",
   "execution_count": 13,
   "id": "f4f84087-9bef-4953-967e-781c8159ce7b",
   "metadata": {},
   "outputs": [],
   "source": [
    "#Creating a new columns based on the bins and labels\n",
    "survey_data['Age Group'] = pd.cut(survey_data['Q0_age'], bins=bins, labels=labels, right=False)\n",
    "#Dropping the old column\n",
    "survey_data.drop('Q0_age', axis=1, inplace= True)"
   ]
  },
  {
   "cell_type": "code",
   "execution_count": 14,
   "id": "ad7d0ecb-0e2e-474b-8e07-c617ca8dfbd7",
   "metadata": {},
   "outputs": [],
   "source": [
    "#Renaming columns\n",
    "survey_data = survey_data.rename(columns={'R02_perc_prob': 'Perceived Flood Probability', 'R05_worry' : 'Worry Flood', 'Q18_flood_exp' : 'Flood Experience', \n",
    "                                           'R03_perc_damage' : 'Perceived Physical Damage', 'Q44_trust_pm' : 'Trust Prime Minister', \n",
    "                                           'Q44_trust_gov_rep' : 'Trust Government Representative', 'Q44_trust_family': 'Trust Family and Friends', \n",
    "                                           'Q44_trust_media' : 'Trust General Media', 'Q44_trust_s_media': 'Trust Social Media','Q53_income_UK': 'Household Income', \n",
    "                                          'Q58_savings': 'Household Savings', 'Q51_unempl_time': 'Unemployment Time' ,'Q52_multiple_income': 'Multiple Incomes' })\n"
   ]
  },
  {
   "cell_type": "code",
   "execution_count": 15,
   "id": "3bb9eaa7-8d92-403a-a5d8-8956f55721af",
   "metadata": {},
   "outputs": [],
   "source": [
    "#Writing the new dataframe to a csv file for further use. This is the file that will be used for further, such as in Step0GroupMeasures\n",
    "#and in Step1Descriptives\n",
    "survey_data.to_csv('../datafiles/transformed_names.csv', index=False)"
   ]
  },
  {
   "cell_type": "markdown",
   "id": "7867f99a-3c8d-49b1-a849-a616a8102339",
   "metadata": {},
   "source": [
    "## 3. Finding the Regions\n",
    "In this section, subsetting of the regions will be done according to the MSOA names"
   ]
  },
  {
   "cell_type": "markdown",
   "id": "b5eb3f2f-af62-4f43-9fad-cadd5bb1b5ed",
   "metadata": {},
   "source": [
    "### Norfolk \n",
    "Selecting all the local authority names belonging to Norfolk. This is done manually by searching on Google which MSOA regions belong to Norfolk and looking in the csv file where they are located. "
   ]
  },
  {
   "cell_type": "code",
   "execution_count": 16,
   "id": "de258ad0-d02b-4af5-b3fd-6bc4dd52c50e",
   "metadata": {},
   "outputs": [],
   "source": [
    "start_norfolk = 'Breckland 001'\n",
    "end_norfolk = 'South Norfolk 015'\n",
    "start_norfolk_2='Norwich 014'\n",
    "end_norfolk_2 = 'Norwich 015'"
   ]
  },
  {
   "cell_type": "code",
   "execution_count": 17,
   "id": "30cbab02-7af6-4483-9634-bd0d216f7ae1",
   "metadata": {},
   "outputs": [],
   "source": [
    "norfolk = find_regions(msoa_all, start_norfolk, end_norfolk)"
   ]
  },
  {
   "cell_type": "code",
   "execution_count": 18,
   "id": "650832ee-11ca-48b3-a7bd-c24516abef6a",
   "metadata": {},
   "outputs": [],
   "source": [
    "norfolk2 = find_regions(msoa_all, start_norfolk_2, end_norfolk_2)"
   ]
  },
  {
   "cell_type": "markdown",
   "id": "dcfd4ce6-4d9a-40f0-a31c-8b3a37b52b4a",
   "metadata": {},
   "source": [
    "### Suffolk "
   ]
  },
  {
   "cell_type": "markdown",
   "id": "c8f10d2f-dd85-4baa-8c60-121404baf0e8",
   "metadata": {},
   "source": [
    "Selecting all the local authority names belonging to Suffolk."
   ]
  },
  {
   "cell_type": "code",
   "execution_count": 19,
   "id": "a426355f-48eb-46a1-ad90-bc8e6e071957",
   "metadata": {},
   "outputs": [],
   "source": [
    "start_suffolk = 'Babergh 001'\n",
    "end_suffolk = 'Waveney 015'"
   ]
  },
  {
   "cell_type": "code",
   "execution_count": 20,
   "id": "172f2efa-9c0a-4499-9d35-17127a067e38",
   "metadata": {},
   "outputs": [],
   "source": [
    "suffolk = find_regions(msoa_all, start_suffolk, end_suffolk)"
   ]
  },
  {
   "cell_type": "code",
   "execution_count": 21,
   "id": "294d2083-6048-4cb4-a009-5408920446aa",
   "metadata": {},
   "outputs": [],
   "source": [
    "#Concatenating all Norfolk and Suffolk regions\n",
    "combined_ns = pd.concat([norfolk, norfolk2, suffolk], ignore_index=True)"
   ]
  },
  {
   "cell_type": "code",
   "execution_count": 22,
   "id": "3f07aa98-c016-4809-9df2-fb066ed8dae8",
   "metadata": {},
   "outputs": [],
   "source": [
    "#Saving the MSOA names for the region to plot as a base region map for later\n",
    "combined_ns.to_csv('../datafiles/norfolk_suffolk_region.csv', index=False)"
   ]
  },
  {
   "cell_type": "markdown",
   "id": "506948c7-85fd-4833-b3ff-e2ebbc00db4c",
   "metadata": {},
   "source": [
    "### Somerset"
   ]
  },
  {
   "cell_type": "code",
   "execution_count": 23,
   "id": "e8396e1f-f81e-4e8b-9dea-5296354773c1",
   "metadata": {},
   "outputs": [],
   "source": [
    "start_somerset1 = 'Mendip 001'\n",
    "end_somerset1 = 'West Somerset 005'"
   ]
  },
  {
   "cell_type": "code",
   "execution_count": 24,
   "id": "55e34940-4a04-483c-a0a3-c039a1958fa8",
   "metadata": {},
   "outputs": [],
   "source": [
    "somerset_1 = find_regions(msoa_all, start_somerset1, end_somerset1)"
   ]
  },
  {
   "cell_type": "code",
   "execution_count": 25,
   "id": "74d918fd-32c1-459a-9331-1dc055de7006",
   "metadata": {},
   "outputs": [],
   "source": [
    "somerset_2 = msoa_all[msoa_all['LA name'] == 'Bath and North East Somerset']"
   ]
  },
  {
   "cell_type": "code",
   "execution_count": 26,
   "id": "3bc8934c-3888-4d1a-a3c5-8110b31fefb9",
   "metadata": {},
   "outputs": [],
   "source": [
    "somerset_3 = msoa_all[msoa_all['LA name'] == 'North Somerset']"
   ]
  },
  {
   "cell_type": "code",
   "execution_count": 27,
   "id": "db298de0-b01c-4c35-9a91-7050d2962e73",
   "metadata": {},
   "outputs": [],
   "source": [
    "#Concatenating all Somerset regions\n",
    "combined_somerset = pd.concat([somerset_1,somerset_2,somerset_3], ignore_index=True)"
   ]
  },
  {
   "cell_type": "code",
   "execution_count": 28,
   "id": "22bea6ac-7dff-43f2-81f8-fbdf9c4b424f",
   "metadata": {},
   "outputs": [],
   "source": [
    "#Saving the MSOA names for the region to plot as a base region map for later\n",
    "combined_somerset.to_csv('../datafiles/somerset_region.csv', index=False)"
   ]
  },
  {
   "cell_type": "markdown",
   "id": "ac12cd64-b4aa-4f8a-a4a4-caf17ea35635",
   "metadata": {},
   "source": [
    "### Greater London \n",
    "London had a lot of scattered regions in the csv file. Hence, a lot of different dataframes had to be concatenated."
   ]
  },
  {
   "cell_type": "code",
   "execution_count": 29,
   "id": "f799c102-b57f-4b7d-9120-2866dd99a1a6",
   "metadata": {},
   "outputs": [],
   "source": [
    "start_london1 = 'City of London 001'\n",
    "end_london1 = 'Westminster 024'\n",
    "start_london2 = 'Bromley 040'\n",
    "end_london2 = 'Bromley 042'\n",
    "start_london3= 'Ealing 040'\n",
    "end_london3= 'Southwark 034'\n",
    "start_london4= 'Greenwich 034'\n",
    "end_london4='Greenwich 038'"
   ]
  },
  {
   "cell_type": "code",
   "execution_count": 30,
   "id": "134b94c8-0433-499b-b843-357705099c53",
   "metadata": {},
   "outputs": [],
   "source": [
    "extra_london=['Hackney 028', 'Hackney 029', 'Redbridge 035', 'Redbridge 036', 'Harrow 033', 'Tower Hamlets 032', 'Tower Hamlets 033']"
   ]
  },
  {
   "cell_type": "code",
   "execution_count": 31,
   "id": "c6497a56-b8d6-4941-9e8d-f1cf5a50b80b",
   "metadata": {},
   "outputs": [],
   "source": [
    "london_1 = find_regions(msoa_all, start_london1, end_london1)"
   ]
  },
  {
   "cell_type": "code",
   "execution_count": 32,
   "id": "39e4320a-6fd0-4e49-b94f-7b68b7d81628",
   "metadata": {},
   "outputs": [],
   "source": [
    "london_2 = find_regions(msoa_all, start_london2, end_london2)"
   ]
  },
  {
   "cell_type": "code",
   "execution_count": 33,
   "id": "17d7a566-2168-4f05-8276-6af2f2f897bf",
   "metadata": {},
   "outputs": [],
   "source": [
    "london_3=find_regions(msoa_all, start_london3, end_london3)"
   ]
  },
  {
   "cell_type": "code",
   "execution_count": 34,
   "id": "a004bcf8-ae45-4564-b2d7-54a5a6b38a02",
   "metadata": {},
   "outputs": [],
   "source": [
    "london_4=find_regions(msoa_all, start_london4, end_london4)"
   ]
  },
  {
   "cell_type": "code",
   "execution_count": 35,
   "id": "58e31cc9-a93f-4fd5-b358-b727fce1a373",
   "metadata": {},
   "outputs": [],
   "source": [
    "london_5= msoa_all[msoa_all['msoa11nmw'].isin(extra_london)]"
   ]
  },
  {
   "cell_type": "code",
   "execution_count": 36,
   "id": "b6d4425f-eb67-40f9-8aff-8eafd6faeebc",
   "metadata": {},
   "outputs": [],
   "source": [
    "#Concatenating all London regions\n",
    "combined_london = pd.concat([london_1,london_2, london_3, london_4, london_5], ignore_index=True)"
   ]
  },
  {
   "cell_type": "code",
   "execution_count": 37,
   "id": "d3d9d1c6-3a4c-4934-8a5a-cba911857c14",
   "metadata": {},
   "outputs": [],
   "source": [
    "#Saving the MSOA names for the region to plot as a base region map for later\n",
    "combined_london.to_csv('../datafiles/london_region.csv', index=False)"
   ]
  },
  {
   "cell_type": "markdown",
   "id": "bf98616a-73cb-457e-99a6-73d4322dc4bb",
   "metadata": {},
   "source": [
    "## 4. Filtering survey data dataframe for the three seperate regions\n",
    "In this section, the survey data is split up according to the three regions and saved into different csv files for further use."
   ]
  },
  {
   "cell_type": "code",
   "execution_count": 38,
   "id": "e744be3f-fc00-47fa-acd8-4b7b58e50d31",
   "metadata": {},
   "outputs": [],
   "source": [
    "#Selecting the entries in survey data that are in the norfolk/suffolk region. \n",
    "filtered_ns=survey_data[survey_data['MSOA name'].isin(combined_ns['MSOA name'])]\n",
    "filtered_ns.to_csv('../datafiles/filtered_ns.csv', index=False)"
   ]
  },
  {
   "cell_type": "code",
   "execution_count": 39,
   "id": "84c1cc47-bb0a-4470-a5ec-de11889551a3",
   "metadata": {},
   "outputs": [],
   "source": [
    "#Selecting the entries in survey data that are in the Somerset. \n",
    "filtered_somerset=survey_data[survey_data['MSOA name'].isin(combined_somerset['MSOA name'])]\n",
    "filtered_somerset.to_csv('../datafiles/filtered_somerset.csv', index=False)"
   ]
  },
  {
   "cell_type": "code",
   "execution_count": 40,
   "id": "2b578c0a-d331-4cf1-80bf-9afddb9b4993",
   "metadata": {},
   "outputs": [],
   "source": [
    "#Selecting the entries in survey data that are in the London. \n",
    "filtered_london=survey_data[survey_data['MSOA name'].isin(combined_london['MSOA name'])]\n",
    "filtered_london.to_csv('../datafiles/filtered_london.csv', index=False)"
   ]
  }
 ],
 "metadata": {
  "kernelspec": {
   "display_name": "Python 3 (ipykernel)",
   "language": "python",
   "name": "python3"
  },
  "language_info": {
   "codemirror_mode": {
    "name": "ipython",
    "version": 3
   },
   "file_extension": ".py",
   "mimetype": "text/x-python",
   "name": "python",
   "nbconvert_exporter": "python",
   "pygments_lexer": "ipython3",
   "version": "3.11.11"
  }
 },
 "nbformat": 4,
 "nbformat_minor": 5
}
