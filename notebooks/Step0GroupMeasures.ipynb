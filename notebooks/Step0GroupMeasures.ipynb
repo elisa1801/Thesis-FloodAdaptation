{
 "cells": [
  {
   "cell_type": "markdown",
   "id": "ad145d2f-8e72-40c8-8bf4-004c44d09202",
   "metadata": {},
   "source": [
    "# Grouping measures\n",
    "In this notebook, I show an initial insight into the measures and I group the different adaptation measures for further analysis. "
   ]
  },
  {
   "cell_type": "markdown",
   "id": "642419d8-a619-4a6f-b1a7-8b96949a527c",
   "metadata": {},
   "source": [
    "## 0. Data preparation"
   ]
  },
  {
   "cell_type": "markdown",
   "id": "de704485-ec10-48d6-a26d-20322d990ea9",
   "metadata": {},
   "source": [
    "### 0.1 Import packages"
   ]
  },
  {
   "cell_type": "code",
   "execution_count": 1,
   "id": "9cdfdc40-2479-442e-9336-fd45507321af",
   "metadata": {},
   "outputs": [],
   "source": [
    "import pandas as pd\n",
    "import numpy as np"
   ]
  },
  {
   "cell_type": "markdown",
   "id": "fa1acecf-83a7-4373-9ce2-ec8a551a5f0b",
   "metadata": {},
   "source": [
    "### 0.1 Import data"
   ]
  },
  {
   "cell_type": "code",
   "execution_count": 2,
   "id": "c6dc546a-7fee-404e-8a0b-98bfba785fe9",
   "metadata": {},
   "outputs": [],
   "source": [
    "#Reading the merged_names file\n",
    "survey_data = pd.read_csv('../datafiles/transformed_names.csv')"
   ]
  },
  {
   "cell_type": "markdown",
   "id": "717408eb-6ae9-44e0-ae9b-ff3ffbe3b627",
   "metadata": {},
   "source": [
    "## 1. Measure Insights"
   ]
  },
  {
   "cell_type": "markdown",
   "id": "5b6448d1-de72-496e-a67a-ffe0f696d549",
   "metadata": {},
   "source": [
    "As seen in Step0Exploratory Notebook, the measure SM8 has empty strings as values because this measure is only relevant for the respondents from the coast. Before a value_counts function is performed to calculate how many respondents have taken the measure, the column needs to be transformed to numeric. "
   ]
  },
  {
   "cell_type": "code",
   "execution_count": 3,
   "id": "f399679b-0864-4f81-8fa9-a899c04815d4",
   "metadata": {},
   "outputs": [],
   "source": [
    "survey_data['R2_implementation_SM8'] = pd.to_numeric(survey_data['R2_implementation_SM8'], errors='coerce')"
   ]
  },
  {
   "cell_type": "markdown",
   "id": "1a67b7b3-0db5-41f0-be68-4f4511e69f61",
   "metadata": {},
   "source": [
    "For the visualisation of the tables in my thesis, I have divided the measures according to structural and non-structural measures. "
   ]
  },
  {
   "cell_type": "code",
   "execution_count": 4,
   "id": "df1c22db-2a26-4dd2-9bc2-342633955fca",
   "metadata": {},
   "outputs": [],
   "source": [
    "selected_columns_structural=['R2_implementation_SM1', 'R2_implementation_SM2',  \n",
    "          'R2_implementation_SM3' , 'R2_implementation_SM4', 'R2_implementation_SM5','R2_implementation_SM6','R2_implementation_SM7','R2_implementation_SM8']\n",
    "\n",
    "selected_columns_non_structural=['R2_implementation_NM1', 'R2_implementation_NM2', 'R2_implementation_NM3','R2_implementation_NM4','R2_implementation_NM5',\n",
    "         'R2_implementation_NM6','R2_implementation_NM7','R2_implementation_NM8','R2_implementation_NM9','R2_implementation_NM10',\n",
    "         'R2_implementation_NM11']\n",
    "\n",
    "all_measures=selected_columns_structural + selected_columns_non_structural"
   ]
  },
  {
   "cell_type": "markdown",
   "id": "7a2276fc-f3d2-4698-b416-bd3dd72174ff",
   "metadata": {},
   "source": [
    "Before I group the measures I want to invert the measures for better interpretation. Thus, the value of 1 (implemented the measure) becomes 4. "
   ]
  },
  {
   "cell_type": "code",
   "execution_count": 5,
   "id": "9f4a4b1a-2b60-4f6c-8529-b22126e6d090",
   "metadata": {},
   "outputs": [],
   "source": [
    "#Inverting the answers to the measures\n",
    "for measure in all_measures:\n",
    "    survey_data[measure]= 5 - survey_data[measure]"
   ]
  },
  {
   "cell_type": "markdown",
   "id": "f8fba0e7-0a14-4bdc-b769-28b3a2ab67fa",
   "metadata": {},
   "source": [
    "Now I can create tables based on the value counts. "
   ]
  },
  {
   "cell_type": "code",
   "execution_count": 6,
   "id": "531a3dfc-874f-4bbd-b150-37d6998ce194",
   "metadata": {},
   "outputs": [
    {
     "name": "stdout",
     "output_type": "stream",
     "text": [
      "\\begin{tabular}{lrrrrrrrr}\n",
      "\\toprule\n",
      " & SM1 & SM2 & SM3 & SM4 & SM5 & SM6 & SM7 & SM8 \\\\\n",
      "\\midrule\n",
      "1.000000 & 677 & 679 & 679 & 639 & 654 & 671 & 679 & 245 \\\\\n",
      "2.000000 & 23 & 25 & 26 & 38 & 32 & 37 & 27 & 4 \\\\\n",
      "3.000000 & 25 & 23 & 22 & 22 & 39 & 21 & 26 & 1 \\\\\n",
      "4.000000 & 18 & 16 & 16 & 44 & 18 & 14 & 11 & 6 \\\\\n",
      "\\bottomrule\n",
      "\\end{tabular}\n",
      "\n"
     ]
    },
    {
     "data": {
      "text/html": [
       "<div>\n",
       "<style scoped>\n",
       "    .dataframe tbody tr th:only-of-type {\n",
       "        vertical-align: middle;\n",
       "    }\n",
       "\n",
       "    .dataframe tbody tr th {\n",
       "        vertical-align: top;\n",
       "    }\n",
       "\n",
       "    .dataframe thead th {\n",
       "        text-align: right;\n",
       "    }\n",
       "</style>\n",
       "<table border=\"1\" class=\"dataframe\">\n",
       "  <thead>\n",
       "    <tr style=\"text-align: right;\">\n",
       "      <th></th>\n",
       "      <th>SM1</th>\n",
       "      <th>SM2</th>\n",
       "      <th>SM3</th>\n",
       "      <th>SM4</th>\n",
       "      <th>SM5</th>\n",
       "      <th>SM6</th>\n",
       "      <th>SM7</th>\n",
       "      <th>SM8</th>\n",
       "    </tr>\n",
       "  </thead>\n",
       "  <tbody>\n",
       "    <tr>\n",
       "      <th>1.0</th>\n",
       "      <td>677</td>\n",
       "      <td>679</td>\n",
       "      <td>679</td>\n",
       "      <td>639</td>\n",
       "      <td>654</td>\n",
       "      <td>671</td>\n",
       "      <td>679</td>\n",
       "      <td>245</td>\n",
       "    </tr>\n",
       "    <tr>\n",
       "      <th>2.0</th>\n",
       "      <td>23</td>\n",
       "      <td>25</td>\n",
       "      <td>26</td>\n",
       "      <td>38</td>\n",
       "      <td>32</td>\n",
       "      <td>37</td>\n",
       "      <td>27</td>\n",
       "      <td>4</td>\n",
       "    </tr>\n",
       "    <tr>\n",
       "      <th>3.0</th>\n",
       "      <td>25</td>\n",
       "      <td>23</td>\n",
       "      <td>22</td>\n",
       "      <td>22</td>\n",
       "      <td>39</td>\n",
       "      <td>21</td>\n",
       "      <td>26</td>\n",
       "      <td>1</td>\n",
       "    </tr>\n",
       "    <tr>\n",
       "      <th>4.0</th>\n",
       "      <td>18</td>\n",
       "      <td>16</td>\n",
       "      <td>16</td>\n",
       "      <td>44</td>\n",
       "      <td>18</td>\n",
       "      <td>14</td>\n",
       "      <td>11</td>\n",
       "      <td>6</td>\n",
       "    </tr>\n",
       "  </tbody>\n",
       "</table>\n",
       "</div>"
      ],
      "text/plain": [
       "     SM1  SM2  SM3  SM4  SM5  SM6  SM7  SM8\n",
       "1.0  677  679  679  639  654  671  679  245\n",
       "2.0   23   25   26   38   32   37   27    4\n",
       "3.0   25   23   22   22   39   21   26    1\n",
       "4.0   18   16   16   44   18   14   11    6"
      ]
     },
     "execution_count": 6,
     "metadata": {},
     "output_type": "execute_result"
    }
   ],
   "source": [
    "#Creating a value counts dictionary\n",
    "value_counts_dict = {}\n",
    "#Value counting for each measure\n",
    "for col in survey_data[selected_columns_structural].columns:\n",
    "    counts = survey_data[col].value_counts()\n",
    "    value_counts_dict[col] = counts\n",
    "\n",
    "# Combining into a single dataframe and align on the index\n",
    "result = pd.concat(value_counts_dict, axis=1)\n",
    "\n",
    "# Replacing NaNs with 0 and set type to integer\n",
    "result = result.fillna(0).astype(int)\n",
    "\n",
    "# Sorting index for better table view\n",
    "result = result.sort_index()\n",
    "\n",
    "#Removing the entire measure name from the columns\n",
    "result.columns = [col[-3:] for col in result.columns]\n",
    "\n",
    "#Printing for Latex result\n",
    "print(result.to_latex(index=True, float_format=lambda x: f\"{x:.2f}\".rstrip('0').rstrip('.')))\n",
    "\n",
    "result"
   ]
  },
  {
   "cell_type": "markdown",
   "id": "3ad4cd2b-61db-405d-a09b-c7fb80fad3c9",
   "metadata": {},
   "source": [
    "I have done the same thing for non-structural measures"
   ]
  },
  {
   "cell_type": "code",
   "execution_count": 7,
   "id": "a27069cb-3e96-4aec-9685-e9e078547b1f",
   "metadata": {},
   "outputs": [
    {
     "name": "stdout",
     "output_type": "stream",
     "text": [
      "\\begin{tabular}{lrrrrrrrrrrr}\n",
      "\\toprule\n",
      " & NM1 & NM2 & NM3 & NM4 & NM5 & NM6 & NM7 & NM8 & NM9 & M10 & M11 \\\\\n",
      "\\midrule\n",
      "1 & 182 & 605 & 622 & 459 & 427 & 584 & 283 & 505 & 538 & 385 & 357 \\\\\n",
      "2 & 58 & 64 & 68 & 89 & 101 & 60 & 68 & 83 & 75 & 78 & 61 \\\\\n",
      "3 & 122 & 48 & 27 & 101 & 128 & 61 & 125 & 116 & 92 & 160 & 113 \\\\\n",
      "4 & 381 & 26 & 26 & 94 & 87 & 38 & 267 & 39 & 38 & 120 & 212 \\\\\n",
      "\\bottomrule\n",
      "\\end{tabular}\n",
      "\n"
     ]
    },
    {
     "data": {
      "text/html": [
       "<div>\n",
       "<style scoped>\n",
       "    .dataframe tbody tr th:only-of-type {\n",
       "        vertical-align: middle;\n",
       "    }\n",
       "\n",
       "    .dataframe tbody tr th {\n",
       "        vertical-align: top;\n",
       "    }\n",
       "\n",
       "    .dataframe thead th {\n",
       "        text-align: right;\n",
       "    }\n",
       "</style>\n",
       "<table border=\"1\" class=\"dataframe\">\n",
       "  <thead>\n",
       "    <tr style=\"text-align: right;\">\n",
       "      <th></th>\n",
       "      <th>NM1</th>\n",
       "      <th>NM2</th>\n",
       "      <th>NM3</th>\n",
       "      <th>NM4</th>\n",
       "      <th>NM5</th>\n",
       "      <th>NM6</th>\n",
       "      <th>NM7</th>\n",
       "      <th>NM8</th>\n",
       "      <th>NM9</th>\n",
       "      <th>M10</th>\n",
       "      <th>M11</th>\n",
       "    </tr>\n",
       "  </thead>\n",
       "  <tbody>\n",
       "    <tr>\n",
       "      <th>1</th>\n",
       "      <td>182</td>\n",
       "      <td>605</td>\n",
       "      <td>622</td>\n",
       "      <td>459</td>\n",
       "      <td>427</td>\n",
       "      <td>584</td>\n",
       "      <td>283</td>\n",
       "      <td>505</td>\n",
       "      <td>538</td>\n",
       "      <td>385</td>\n",
       "      <td>357</td>\n",
       "    </tr>\n",
       "    <tr>\n",
       "      <th>2</th>\n",
       "      <td>58</td>\n",
       "      <td>64</td>\n",
       "      <td>68</td>\n",
       "      <td>89</td>\n",
       "      <td>101</td>\n",
       "      <td>60</td>\n",
       "      <td>68</td>\n",
       "      <td>83</td>\n",
       "      <td>75</td>\n",
       "      <td>78</td>\n",
       "      <td>61</td>\n",
       "    </tr>\n",
       "    <tr>\n",
       "      <th>3</th>\n",
       "      <td>122</td>\n",
       "      <td>48</td>\n",
       "      <td>27</td>\n",
       "      <td>101</td>\n",
       "      <td>128</td>\n",
       "      <td>61</td>\n",
       "      <td>125</td>\n",
       "      <td>116</td>\n",
       "      <td>92</td>\n",
       "      <td>160</td>\n",
       "      <td>113</td>\n",
       "    </tr>\n",
       "    <tr>\n",
       "      <th>4</th>\n",
       "      <td>381</td>\n",
       "      <td>26</td>\n",
       "      <td>26</td>\n",
       "      <td>94</td>\n",
       "      <td>87</td>\n",
       "      <td>38</td>\n",
       "      <td>267</td>\n",
       "      <td>39</td>\n",
       "      <td>38</td>\n",
       "      <td>120</td>\n",
       "      <td>212</td>\n",
       "    </tr>\n",
       "  </tbody>\n",
       "</table>\n",
       "</div>"
      ],
      "text/plain": [
       "   NM1  NM2  NM3  NM4  NM5  NM6  NM7  NM8  NM9  M10  M11\n",
       "1  182  605  622  459  427  584  283  505  538  385  357\n",
       "2   58   64   68   89  101   60   68   83   75   78   61\n",
       "3  122   48   27  101  128   61  125  116   92  160  113\n",
       "4  381   26   26   94   87   38  267   39   38  120  212"
      ]
     },
     "execution_count": 7,
     "metadata": {},
     "output_type": "execute_result"
    }
   ],
   "source": [
    "#Same thing for non-structural measures\n",
    "value_counts_dict_non = {}\n",
    "for col in survey_data[selected_columns_non_structural].columns:\n",
    "    counts_non = survey_data[col].value_counts()\n",
    "    value_counts_dict_non[col] = counts_non\n",
    "\n",
    "result_non = pd.concat(value_counts_dict_non, axis=1)\n",
    "\n",
    "result_non = result_non.fillna(0).astype(int)\n",
    "\n",
    "result_non = result_non.sort_index()\n",
    "\n",
    "result_non.columns = [col[-3:] for col in result_non.columns]\n",
    "\n",
    "print(result_non.to_latex(index=True, float_format=lambda x: f\"{x:.2f}\".rstrip('0').rstrip('.')))\n",
    "\n",
    "result_non"
   ]
  },
  {
   "cell_type": "markdown",
   "id": "58e4b8b2-9587-4134-95ec-01b8ccc3fc36",
   "metadata": {},
   "source": [
    "##  2. Grouping of the measures"
   ]
  },
  {
   "cell_type": "markdown",
   "id": "211dedb3-cde4-4117-aa9b-efd2ecd030a1",
   "metadata": {},
   "source": [
    "The measures are grouped according to the following categories:"
   ]
  },
  {
   "cell_type": "markdown",
   "id": "e65be647-826f-4c5f-84e1-2b6a22334137",
   "metadata": {},
   "source": [
    "**Non-structural measures**:\n",
    "- Informative: NM4,NM5,NM8, NM9\n",
    "- Preventive low effort: NM1, NM7, NM10, NM11\n",
    "- Preventive high effort: NM2, NM6, NM3\n",
    "\n",
    "**Structural measures**:\n",
    "- Elevation: SM1\n",
    "- Wetproofing: SM2,SM3, SM4  \n",
    "- Dry-proofing: SM5, SM6, SM7\n",
    "- Barrier: SM8"
   ]
  },
  {
   "cell_type": "code",
   "execution_count": 8,
   "id": "0e46f296-93f2-4cc7-a8ed-74d3742c3fa7",
   "metadata": {},
   "outputs": [],
   "source": [
    "# Subsetting the different columns according to the group measures: non-structural\n",
    "informative=['R2_implementation_NM4', 'R2_implementation_NM5','R2_implementation_NM8','R2_implementation_NM9']\n",
    "preventive_low=['R2_implementation_NM1', 'R2_implementation_NM7','R2_implementation_NM10',\n",
    "         'R2_implementation_NM11']\n",
    "preventive_high=['R2_implementation_NM2','R2_implementation_NM6', 'R2_implementation_NM3']"
   ]
  },
  {
   "cell_type": "code",
   "execution_count": 9,
   "id": "7e1ce823-fb82-4a1a-8d74-c2fbb7cbb3c8",
   "metadata": {},
   "outputs": [],
   "source": [
    "# Subsetting the different columns according to the group measures: structural\n",
    "elevation=['R2_implementation_SM1']\n",
    "wet_proofing=[ 'R2_implementation_SM2', 'R2_implementation_SM3', 'R2_implementation_SM4']\n",
    "dry_proofing=['R2_implementation_SM5','R2_implementation_SM6', 'R2_implementation_SM7']\n",
    "barrier=['R2_implementation_SM8']"
   ]
  },
  {
   "cell_type": "code",
   "execution_count": 10,
   "id": "3f2b5da3-1d59-414a-9417-d3306ed08785",
   "metadata": {},
   "outputs": [],
   "source": [
    "#Taking the maximum of the inverted grouped columns based on assumption that if respondents take one of the \n",
    "#measures, they would take the others as well. \n",
    "survey_data['Informative non-structural']= (survey_data[informative].max(axis=1)).astype(int)\n",
    "survey_data['Preventive-low non-structural']= (survey_data[preventive_low].max(axis=1)).astype(int)\n",
    "survey_data['Preventive-high non-structural']= (survey_data[preventive_high].max(axis=1)).astype(int)\n",
    "survey_data['Elevation structural']= (survey_data[elevation].max(axis=1)).astype(int)\n",
    "survey_data['Wet-proofing structural']= (survey_data[wet_proofing].max(axis=1)).astype(int)\n",
    "survey_data['Dry-proofing structural']= (survey_data[dry_proofing].max(axis=1)).astype(int)"
   ]
  },
  {
   "cell_type": "markdown",
   "id": "9b809803-2e93-44be-b1ea-c3cfef38c462",
   "metadata": {},
   "source": [
    "## 3. Seperating Measures in Done and Plan\n",
    "I also want to seperate the aforementioned groups into having taken the measure (value 4) or planning to take the measure in the near future (value 3)"
   ]
  },
  {
   "cell_type": "code",
   "execution_count": 11,
   "id": "edd1c356-d1dc-4f8a-87b2-fa2f6854bdc6",
   "metadata": {},
   "outputs": [],
   "source": [
    "#Creating dichotomous variables for people that have taken the measure (1) or not (0)\n",
    "survey_data['Done informative'] = (survey_data['Informative non-structural'] == 4).astype(int)\n",
    "survey_data['Done preventive low'] = (survey_data['Preventive-low non-structural'] == 4).astype(int)\n",
    "survey_data['Done preventive high'] = (survey_data['Preventive-high non-structural'] == 4).astype(int)\n",
    "survey_data['Done elevation'] = (survey_data['Elevation structural'] == 4).astype(int)\n",
    "survey_data['Done wet-proofing'] = (survey_data['Wet-proofing structural'] == 4).astype(int)\n",
    "survey_data['Done dry-proofing'] = (survey_data['Dry-proofing structural'] == 4).astype(int)"
   ]
  },
  {
   "cell_type": "code",
   "execution_count": 12,
   "id": "d6a4b187-1297-4f7d-a34f-3cf7ec555ecd",
   "metadata": {},
   "outputs": [],
   "source": [
    "#Creating dichotomous variables for people that are planning to take the measure (1) or not (0)\n",
    "survey_data['Plan informative'] = (survey_data['Informative non-structural'] == 3).astype(int)\n",
    "survey_data['Plan preventive low'] = (survey_data['Preventive-low non-structural'] == 3).astype(int)\n",
    "survey_data['Plan preventive high'] = (survey_data['Preventive-high non-structural'] == 3).astype(int)\n",
    "survey_data['Plan elevation'] = (survey_data['Elevation structural'] == 3).astype(int)\n",
    "survey_data['Plan wet-proofing'] = (survey_data['Wet-proofing structural'] == 3).astype(int)\n",
    "survey_data['Plan dry-proofing'] = (survey_data['Dry-proofing structural'] == 3).astype(int)"
   ]
  },
  {
   "cell_type": "markdown",
   "id": "3a205ccb-3aba-4d65-86a2-d3a16bd065b2",
   "metadata": {},
   "source": [
    "Moreover, for the clustering I do an additional grouping: seperating the done and plan measures into structural and non-structural. I will do this below. The assumption has been taken that if a respondent takes a structural measure, he/she would take other measures in the same group as well. "
   ]
  },
  {
   "cell_type": "code",
   "execution_count": 13,
   "id": "9a468cc9-ef9a-4748-9805-96b6df127213",
   "metadata": {},
   "outputs": [],
   "source": [
    "#New groups of measures\n",
    "meas_done_non=['Done informative', 'Done preventive low', 'Done preventive high']\n",
    "meas_done_struc=['Done elevation', 'Done wet-proofing',  'Done dry-proofing']\n",
    "meas_plan_non=['Plan informative', 'Plan preventive low', 'Plan preventive high' ]\n",
    "meas_plan_struc=['Plan elevation', 'Plan wet-proofing', 'Plan dry-proofing'  ]"
   ]
  },
  {
   "cell_type": "code",
   "execution_count": 14,
   "id": "5bc79e6d-a1f1-4fb6-a948-c18487efa300",
   "metadata": {},
   "outputs": [],
   "source": [
    "#Aggregating the groups\n",
    "survey_data['Any measure done non-structural']=survey_data[meas_done_non].eq(1).any(axis=1)\n",
    "survey_data['Any measure done structural']=survey_data[meas_done_struc].eq(1).any(axis=1)\n",
    "survey_data['Any measure plan non-structural']=survey_data[meas_plan_non].eq(1).any(axis=1)\n",
    "survey_data['Any measure plan structural']=survey_data[meas_plan_struc].eq(1).any(axis=1)"
   ]
  },
  {
   "cell_type": "markdown",
   "id": "ce9c8492-6bb2-466b-8144-b6aebf3efdf5",
   "metadata": {},
   "source": [
    "I have created four more columns with seperate grouping for the clustering analysis. Now I can write this dataframe to a csv file for further use. "
   ]
  },
  {
   "cell_type": "code",
   "execution_count": 15,
   "id": "7c9edf54-796d-408d-9767-60c1c8b445f5",
   "metadata": {},
   "outputs": [],
   "source": [
    "#Writing the new survey data into a new csv file for further analysis\n",
    "survey_data.to_csv('../datafiles/grouped_survey.csv', index=False)"
   ]
  },
  {
   "cell_type": "markdown",
   "id": "08b8b520-1fce-4cad-bc3c-69c22fac0cc5",
   "metadata": {},
   "source": [
    "# 4. Initial insights into the new grouped measures"
   ]
  },
  {
   "cell_type": "markdown",
   "id": "5912b0aa-064a-41bc-b092-0309967444dc",
   "metadata": {},
   "source": [
    "I want to check how many respondents have taken or not taken measures. For that, I have grouped the variables in \"Done\" variables and \"Plan\" variables."
   ]
  },
  {
   "cell_type": "code",
   "execution_count": 16,
   "id": "97d55a7a-d4f5-4cc8-bad1-b9578065adad",
   "metadata": {},
   "outputs": [],
   "source": [
    "#Defining measures\n",
    "meas_done=['Done informative', 'Done preventive low', 'Done preventive high',  'Done elevation', 'Done wet-proofing',  'Done dry-proofing']\n",
    "meas_plan=['Plan informative', 'Plan preventive low', 'Plan preventive high', 'Plan elevation', 'Plan wet-proofing', 'Plan dry-proofing'  ]"
   ]
  },
  {
   "cell_type": "code",
   "execution_count": 17,
   "id": "88a1af59-028d-4731-bd4a-dca706da04e4",
   "metadata": {},
   "outputs": [
    {
     "name": "stdout",
     "output_type": "stream",
     "text": [
      "Any kind of done measure:  494\n",
      "All of done measure:  3\n"
     ]
    }
   ],
   "source": [
    "#Finding how many respondents have implemented all or any kind of measure\n",
    "meas_done_total= survey_data[meas_done].eq(1).any(axis=1).sum()\n",
    "all_done_total=survey_data[meas_done].eq(1).all(axis=1).sum()\n",
    "print('Any kind of done measure: ', meas_done_total)\n",
    "print('All of done measure: ', all_done_total)"
   ]
  },
  {
   "cell_type": "code",
   "execution_count": 18,
   "id": "6440a9f2-9415-44fa-8be2-72c1a3e2196b",
   "metadata": {},
   "outputs": [
    {
     "name": "stdout",
     "output_type": "stream",
     "text": [
      "Any kind of done measure:  260\n",
      "All of done measure:  3\n"
     ]
    }
   ],
   "source": [
    "#Finding how many respondents intend to implement all or any kind of measure in the near future\n",
    "meas_plan_total= survey_data[meas_plan].eq(1).any(axis=1).sum()\n",
    "all_plan_total= survey_data[meas_plan].eq(1).all(axis=1).sum()\n",
    "print('Any kind of done measure: ', meas_plan_total)\n",
    "print('All of done measure: ', all_done_total)"
   ]
  },
  {
   "cell_type": "code",
   "execution_count": 19,
   "id": "5eaa4be9-f346-4f7a-8ace-c5e70db164dc",
   "metadata": {},
   "outputs": [
    {
     "name": "stdout",
     "output_type": "stream",
     "text": [
      "157\n",
      "462\n",
      "69\n",
      "18\n",
      "54\n",
      "32\n"
     ]
    }
   ],
   "source": [
    "#Finding how many respondents have implemented per group measure\n",
    "for col in meas_done: \n",
    "    sum_meas_done= survey_data[col].sum()\n",
    "    print(sum_meas_done)"
   ]
  },
  {
   "cell_type": "code",
   "execution_count": 20,
   "id": "3ca20249-7ce4-4961-866e-d1db1465cdaa",
   "metadata": {},
   "outputs": [
    {
     "name": "stdout",
     "output_type": "stream",
     "text": [
      "138\n",
      "110\n",
      "84\n",
      "25\n",
      "32\n",
      "38\n"
     ]
    }
   ],
   "source": [
    "#Finding how many respondents intend to implement per group measure in the future\n",
    "for col in meas_plan: \n",
    "    sum_meas_plan= survey_data[col].sum()\n",
    "    print(sum_meas_plan)"
   ]
  }
 ],
 "metadata": {
  "kernelspec": {
   "display_name": "Python 3 (ipykernel)",
   "language": "python",
   "name": "python3"
  },
  "language_info": {
   "codemirror_mode": {
    "name": "ipython",
    "version": 3
   },
   "file_extension": ".py",
   "mimetype": "text/x-python",
   "name": "python",
   "nbconvert_exporter": "python",
   "pygments_lexer": "ipython3",
   "version": "3.11.11"
  }
 },
 "nbformat": 4,
 "nbformat_minor": 5
}
